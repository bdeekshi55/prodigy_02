{
 "cells": [
  {
   "cell_type": "markdown",
   "id": "2a7321fb",
   "metadata": {},
   "source": [
    "# <u> Task 02: </u>"
   ]
  },
  {
   "cell_type": "markdown",
   "id": "df185add",
   "metadata": {},
   "source": [
    "### Create a K-means clustering algorithm to group customers of a retail store based on their purchase history. Dataset : https://www.kaggle.com/datasets/vjchoudhary7/customer-segmentation-tutorial-in-python"
   ]
  },
  {
   "cell_type": "code",
   "execution_count": 2,
   "id": "1129357a",
   "metadata": {},
   "outputs": [],
   "source": [
    "# Let's import necessary libraries\n",
    "import pandas as pd\n",
    "import os\n",
    "os.environ[\"MKL_NUM_THREADS\"] = \"1\" # To clear a warning\n",
    "from sklearn.cluster import KMeans\n",
    "from sklearn.preprocessing import MinMaxScaler\n",
    "from matplotlib import pyplot as plt"
   ]
  },
  {
   "cell_type": "code",
   "execution_count": 3,
   "id": "0c41f6a9",
   "metadata": {},
   "outputs": [],
   "source": [
    "# Let's load the CSV file into a dataframe\n",
    "df = pd.read_csv(\"Mall_Customers.csv\")"
   ]
  },
  {
   "cell_type": "code",
   "execution_count": 4,
   "id": "b5305751",
   "metadata": {},
   "outputs": [
    {
     "name": "stdout",
     "output_type": "stream",
     "text": [
      "\n",
      "Null count :-\n",
      "CustomerID                0\n",
      "Gender                    0\n",
      "Age                       0\n",
      "Annual Income (k$)        0\n",
      "Spending Score (1-100)    0\n",
      "dtype: int64\n"
     ]
    }
   ],
   "source": [
    "# Look for missing values in the dataframe\n",
    "print(f\"\\nNull count :-\\n{df.isna().sum()}\")"
   ]
  },
  {
   "cell_type": "markdown",
   "id": "f231db35",
   "metadata": {},
   "source": [
    "### No NA values detected, so we can skip the data cleaning"
   ]
  },
  {
   "cell_type": "code",
   "execution_count": 5,
   "id": "b12e1e13",
   "metadata": {},
   "outputs": [
    {
     "data": {
      "text/html": [
       "<div>\n",
       "<style scoped>\n",
       "    .dataframe tbody tr th:only-of-type {\n",
       "        vertical-align: middle;\n",
       "    }\n",
       "\n",
       "    .dataframe tbody tr th {\n",
       "        vertical-align: top;\n",
       "    }\n",
       "\n",
       "    .dataframe thead th {\n",
       "        text-align: right;\n",
       "    }\n",
       "</style>\n",
       "<table border=\"1\" class=\"dataframe\">\n",
       "  <thead>\n",
       "    <tr style=\"text-align: right;\">\n",
       "      <th></th>\n",
       "      <th>CustomerID</th>\n",
       "      <th>Gender</th>\n",
       "      <th>Age</th>\n",
       "      <th>Annual Income (k$)</th>\n",
       "      <th>Spending Score (1-100)</th>\n",
       "    </tr>\n",
       "  </thead>\n",
       "  <tbody>\n",
       "    <tr>\n",
       "      <th>0</th>\n",
       "      <td>1</td>\n",
       "      <td>Male</td>\n",
       "      <td>0.019231</td>\n",
       "      <td>15</td>\n",
       "      <td>0.387755</td>\n",
       "    </tr>\n",
       "    <tr>\n",
       "      <th>1</th>\n",
       "      <td>2</td>\n",
       "      <td>Male</td>\n",
       "      <td>0.057692</td>\n",
       "      <td>15</td>\n",
       "      <td>0.816327</td>\n",
       "    </tr>\n",
       "    <tr>\n",
       "      <th>2</th>\n",
       "      <td>3</td>\n",
       "      <td>Female</td>\n",
       "      <td>0.038462</td>\n",
       "      <td>16</td>\n",
       "      <td>0.051020</td>\n",
       "    </tr>\n",
       "    <tr>\n",
       "      <th>3</th>\n",
       "      <td>4</td>\n",
       "      <td>Female</td>\n",
       "      <td>0.096154</td>\n",
       "      <td>16</td>\n",
       "      <td>0.775510</td>\n",
       "    </tr>\n",
       "    <tr>\n",
       "      <th>4</th>\n",
       "      <td>5</td>\n",
       "      <td>Female</td>\n",
       "      <td>0.250000</td>\n",
       "      <td>17</td>\n",
       "      <td>0.397959</td>\n",
       "    </tr>\n",
       "    <tr>\n",
       "      <th>...</th>\n",
       "      <td>...</td>\n",
       "      <td>...</td>\n",
       "      <td>...</td>\n",
       "      <td>...</td>\n",
       "      <td>...</td>\n",
       "    </tr>\n",
       "    <tr>\n",
       "      <th>195</th>\n",
       "      <td>196</td>\n",
       "      <td>Female</td>\n",
       "      <td>0.326923</td>\n",
       "      <td>120</td>\n",
       "      <td>0.795918</td>\n",
       "    </tr>\n",
       "    <tr>\n",
       "      <th>196</th>\n",
       "      <td>197</td>\n",
       "      <td>Female</td>\n",
       "      <td>0.519231</td>\n",
       "      <td>126</td>\n",
       "      <td>0.275510</td>\n",
       "    </tr>\n",
       "    <tr>\n",
       "      <th>197</th>\n",
       "      <td>198</td>\n",
       "      <td>Male</td>\n",
       "      <td>0.269231</td>\n",
       "      <td>126</td>\n",
       "      <td>0.744898</td>\n",
       "    </tr>\n",
       "    <tr>\n",
       "      <th>198</th>\n",
       "      <td>199</td>\n",
       "      <td>Male</td>\n",
       "      <td>0.269231</td>\n",
       "      <td>137</td>\n",
       "      <td>0.173469</td>\n",
       "    </tr>\n",
       "    <tr>\n",
       "      <th>199</th>\n",
       "      <td>200</td>\n",
       "      <td>Male</td>\n",
       "      <td>0.230769</td>\n",
       "      <td>137</td>\n",
       "      <td>0.836735</td>\n",
       "    </tr>\n",
       "  </tbody>\n",
       "</table>\n",
       "<p>200 rows × 5 columns</p>\n",
       "</div>"
      ],
      "text/plain": [
       "     CustomerID  Gender       Age  Annual Income (k$)  Spending Score (1-100)\n",
       "0             1    Male  0.019231                  15                0.387755\n",
       "1             2    Male  0.057692                  15                0.816327\n",
       "2             3  Female  0.038462                  16                0.051020\n",
       "3             4  Female  0.096154                  16                0.775510\n",
       "4             5  Female  0.250000                  17                0.397959\n",
       "..          ...     ...       ...                 ...                     ...\n",
       "195         196  Female  0.326923                 120                0.795918\n",
       "196         197  Female  0.519231                 126                0.275510\n",
       "197         198    Male  0.269231                 126                0.744898\n",
       "198         199    Male  0.269231                 137                0.173469\n",
       "199         200    Male  0.230769                 137                0.836735\n",
       "\n",
       "[200 rows x 5 columns]"
      ]
     },
     "execution_count": 5,
     "metadata": {},
     "output_type": "execute_result"
    }
   ],
   "source": [
    "# Now, let's scale the values in the dataframe\n",
    "scaler = MinMaxScaler()\n",
    "scaler.fit(df[['Age', 'Spending Score (1-100)']])\n",
    "df[['Age', 'Spending Score (1-100)']] = scaler.transform(df[['Age', 'Spending Score (1-100)']])\n",
    "df"
   ]
  },
  {
   "cell_type": "markdown",
   "id": "16faac49",
   "metadata": {},
   "source": [
    "# Using Elbow Plot Method\n",
    "### Let's use elbow plot method to determine the K value for our data"
   ]
  },
  {
   "cell_type": "code",
   "execution_count": 6,
   "id": "ca2ca6dc",
   "metadata": {},
   "outputs": [
    {
     "name": "stderr",
     "output_type": "stream",
     "text": [
      "C:\\Anaconda\\Lib\\site-packages\\sklearn\\cluster\\_kmeans.py:1436: UserWarning: KMeans is known to have a memory leak on Windows with MKL, when there are less chunks than available threads. You can avoid it by setting the environment variable OMP_NUM_THREADS=1.\n",
      "  warnings.warn(\n",
      "C:\\Anaconda\\Lib\\site-packages\\sklearn\\cluster\\_kmeans.py:1436: UserWarning: KMeans is known to have a memory leak on Windows with MKL, when there are less chunks than available threads. You can avoid it by setting the environment variable OMP_NUM_THREADS=1.\n",
      "  warnings.warn(\n",
      "C:\\Anaconda\\Lib\\site-packages\\sklearn\\cluster\\_kmeans.py:1436: UserWarning: KMeans is known to have a memory leak on Windows with MKL, when there are less chunks than available threads. You can avoid it by setting the environment variable OMP_NUM_THREADS=1.\n",
      "  warnings.warn(\n",
      "C:\\Anaconda\\Lib\\site-packages\\sklearn\\cluster\\_kmeans.py:1436: UserWarning: KMeans is known to have a memory leak on Windows with MKL, when there are less chunks than available threads. You can avoid it by setting the environment variable OMP_NUM_THREADS=1.\n",
      "  warnings.warn(\n",
      "C:\\Anaconda\\Lib\\site-packages\\sklearn\\cluster\\_kmeans.py:1436: UserWarning: KMeans is known to have a memory leak on Windows with MKL, when there are less chunks than available threads. You can avoid it by setting the environment variable OMP_NUM_THREADS=1.\n",
      "  warnings.warn(\n",
      "C:\\Anaconda\\Lib\\site-packages\\sklearn\\cluster\\_kmeans.py:1436: UserWarning: KMeans is known to have a memory leak on Windows with MKL, when there are less chunks than available threads. You can avoid it by setting the environment variable OMP_NUM_THREADS=1.\n",
      "  warnings.warn(\n",
      "C:\\Anaconda\\Lib\\site-packages\\sklearn\\cluster\\_kmeans.py:1436: UserWarning: KMeans is known to have a memory leak on Windows with MKL, when there are less chunks than available threads. You can avoid it by setting the environment variable OMP_NUM_THREADS=1.\n",
      "  warnings.warn(\n",
      "C:\\Anaconda\\Lib\\site-packages\\sklearn\\cluster\\_kmeans.py:1436: UserWarning: KMeans is known to have a memory leak on Windows with MKL, when there are less chunks than available threads. You can avoid it by setting the environment variable OMP_NUM_THREADS=1.\n",
      "  warnings.warn(\n",
      "C:\\Anaconda\\Lib\\site-packages\\sklearn\\cluster\\_kmeans.py:1436: UserWarning: KMeans is known to have a memory leak on Windows with MKL, when there are less chunks than available threads. You can avoid it by setting the environment variable OMP_NUM_THREADS=1.\n",
      "  warnings.warn(\n",
      "C:\\Anaconda\\Lib\\site-packages\\sklearn\\cluster\\_kmeans.py:1436: UserWarning: KMeans is known to have a memory leak on Windows with MKL, when there are less chunks than available threads. You can avoid it by setting the environment variable OMP_NUM_THREADS=1.\n",
      "  warnings.warn(\n"
     ]
    },
    {
     "data": {
      "text/plain": [
       "[28.17833784431536,\n",
       " 13.337690580804235,\n",
       " 8.743281510740559,\n",
       " 6.369358666824115,\n",
       " 5.051510036206073,\n",
       " 3.762796809327069,\n",
       " 3.440397325751079,\n",
       " 2.8650647038639825,\n",
       " 2.851918230018886,\n",
       " 2.1042795763582385]"
      ]
     },
     "execution_count": 6,
     "metadata": {},
     "output_type": "execute_result"
    }
   ],
   "source": [
    "# Let's check SSE(Sum of Square Errors) for each value of K\n",
    "sse = []\n",
    "for k in range(1, 11):\n",
    "    check_k = KMeans(n_clusters=k, n_init='auto')\n",
    "    check_k.fit(df[['Age', 'Spending Score (1-100)']])\n",
    "    # inertia_ is a parameter that gives the value of SSE calculated\n",
    "    sse.append(check_k.inertia_)\n",
    "\n",
    "# SSE values calculated the range of K\n",
    "sse"
   ]
  },
  {
   "cell_type": "code",
   "execution_count": 12,
   "id": "ff1776a4",
   "metadata": {},
   "outputs": [
    {
     "data": {
      "text/plain": [
       "[<matplotlib.lines.Line2D at 0x1b8ac520310>]"
      ]
     },
     "execution_count": 12,
     "metadata": {},
     "output_type": "execute_result"
    },
    {
     "data": {
      "image/png": "[encoded data removed]",
      "text/plain": [
       "<Figure size 640x480 with 1 Axes>"
      ]
     },
     "metadata": {},
     "output_type": "display_data"
    }
   ],
   "source": [
    "# Now, let's plot SSE values in a chart\n",
    "plt.xlabel('Value of K')\n",
    "plt.ylabel('SSE (Sum of Sqaured Errors)')\n",
    "plt.plot(range(1, 11), sse)"
   ]
  },
  {
   "cell_type": "markdown",
   "id": "bb85f6e1",
   "metadata": {},
   "source": [
    "### Let's take K=4, since it the plot gradually decreases from that point"
   ]
  },
  {
   "cell_type": "code",
   "execution_count": 15,
   "id": "85a40ff7",
   "metadata": {},
   "outputs": [
    {
     "name": "stderr",
     "output_type": "stream",
     "text": [
      "C:\\Anaconda\\Lib\\site-packages\\sklearn\\cluster\\_kmeans.py:1436: UserWarning: KMeans is known to have a memory leak on Windows with MKL, when there are less chunks than available threads. You can avoid it by setting the environment variable OMP_NUM_THREADS=1.\n",
      "  warnings.warn(\n"
     ]
    },
    {
     "data": {
      "text/plain": [
       "array([0, 0, 2, 0, 3, 0, 2, 0, 2, 0, 1, 0, 2, 0, 2, 0, 3, 0, 3, 0, 3, 0,\n",
       "       2, 0, 2, 0, 3, 0, 3, 0, 2, 0, 2, 0, 2, 0, 2, 0, 2, 0, 1, 0, 3, 0,\n",
       "       3, 0, 3, 0, 3, 3, 3, 0, 0, 1, 3, 3, 3, 1, 0, 3, 1, 0, 1, 1, 1, 0,\n",
       "       3, 1, 0, 3, 1, 3, 1, 1, 1, 0, 3, 3, 0, 3, 1, 3, 1, 3, 0, 3, 1, 0,\n",
       "       0, 3, 1, 0, 3, 3, 3, 0, 3, 0, 3, 0, 0, 3, 1, 0, 3, 0, 1, 1, 1, 1,\n",
       "       1, 0, 3, 0, 0, 0, 1, 3, 3, 3, 0, 3, 3, 0, 2, 0, 3, 0, 2, 0, 2, 0,\n",
       "       3, 0, 2, 0, 2, 0, 2, 0, 2, 0, 3, 0, 2, 0, 3, 0, 2, 0, 2, 0, 2, 0,\n",
       "       2, 0, 2, 0, 2, 0, 1, 0, 2, 0, 2, 0, 2, 0, 2, 0, 2, 0, 2, 0, 2, 0,\n",
       "       2, 0, 2, 0, 3, 0, 2, 0, 3, 0, 2, 0, 2, 0, 2, 0, 2, 0, 2, 0, 2, 0,\n",
       "       2, 0])"
      ]
     },
     "execution_count": 15,
     "metadata": {},
     "output_type": "execute_result"
    }
   ],
   "source": [
    "# Now let's apply the KMeans algorithm\n",
    "km = KMeans(n_clusters=4, n_init='auto')\n",
    "y_pred = km.fit_predict(df[['Age', 'Spending Score (1-100)']])\n",
    "y_pred"
   ]
  },
  {
   "cell_type": "code",
   "execution_count": 16,
   "id": "2f1feb92",
   "metadata": {},
   "outputs": [
    {
     "name": "stdout",
     "output_type": "stream",
     "text": [
      "\n",
      "Centroids : [[0.19363395 0.72824302]\n",
      " [0.87153846 0.48326531]\n",
      " [0.4637746  0.12838159]\n",
      " [0.48034188 0.43219955]]\n"
     ]
    },
    {
     "data": {
      "text/html": [
       "<div>\n",
       "<style scoped>\n",
       "    .dataframe tbody tr th:only-of-type {\n",
       "        vertical-align: middle;\n",
       "    }\n",
       "\n",
       "    .dataframe tbody tr th {\n",
       "        vertical-align: top;\n",
       "    }\n",
       "\n",
       "    .dataframe thead th {\n",
       "        text-align: right;\n",
       "    }\n",
       "</style>\n",
       "<table border=\"1\" class=\"dataframe\">\n",
       "  <thead>\n",
       "    <tr style=\"text-align: right;\">\n",
       "      <th></th>\n",
       "      <th>CustomerID</th>\n",
       "      <th>Gender</th>\n",
       "      <th>Age</th>\n",
       "      <th>Annual Income (k$)</th>\n",
       "      <th>Spending Score (1-100)</th>\n",
       "      <th>cluster</th>\n",
       "    </tr>\n",
       "  </thead>\n",
       "  <tbody>\n",
       "    <tr>\n",
       "      <th>0</th>\n",
       "      <td>1</td>\n",
       "      <td>Male</td>\n",
       "      <td>0.019231</td>\n",
       "      <td>15</td>\n",
       "      <td>0.387755</td>\n",
       "      <td>0</td>\n",
       "    </tr>\n",
       "    <tr>\n",
       "      <th>1</th>\n",
       "      <td>2</td>\n",
       "      <td>Male</td>\n",
       "      <td>0.057692</td>\n",
       "      <td>15</td>\n",
       "      <td>0.816327</td>\n",
       "      <td>0</td>\n",
       "    </tr>\n",
       "    <tr>\n",
       "      <th>2</th>\n",
       "      <td>3</td>\n",
       "      <td>Female</td>\n",
       "      <td>0.038462</td>\n",
       "      <td>16</td>\n",
       "      <td>0.051020</td>\n",
       "      <td>2</td>\n",
       "    </tr>\n",
       "    <tr>\n",
       "      <th>3</th>\n",
       "      <td>4</td>\n",
       "      <td>Female</td>\n",
       "      <td>0.096154</td>\n",
       "      <td>16</td>\n",
       "      <td>0.775510</td>\n",
       "      <td>0</td>\n",
       "    </tr>\n",
       "    <tr>\n",
       "      <th>4</th>\n",
       "      <td>5</td>\n",
       "      <td>Female</td>\n",
       "      <td>0.250000</td>\n",
       "      <td>17</td>\n",
       "      <td>0.397959</td>\n",
       "      <td>3</td>\n",
       "    </tr>\n",
       "    <tr>\n",
       "      <th>...</th>\n",
       "      <td>...</td>\n",
       "      <td>...</td>\n",
       "      <td>...</td>\n",
       "      <td>...</td>\n",
       "      <td>...</td>\n",
       "      <td>...</td>\n",
       "    </tr>\n",
       "    <tr>\n",
       "      <th>195</th>\n",
       "      <td>196</td>\n",
       "      <td>Female</td>\n",
       "      <td>0.326923</td>\n",
       "      <td>120</td>\n",
       "      <td>0.795918</td>\n",
       "      <td>0</td>\n",
       "    </tr>\n",
       "    <tr>\n",
       "      <th>196</th>\n",
       "      <td>197</td>\n",
       "      <td>Female</td>\n",
       "      <td>0.519231</td>\n",
       "      <td>126</td>\n",
       "      <td>0.275510</td>\n",
       "      <td>2</td>\n",
       "    </tr>\n",
       "    <tr>\n",
       "      <th>197</th>\n",
       "      <td>198</td>\n",
       "      <td>Male</td>\n",
       "      <td>0.269231</td>\n",
       "      <td>126</td>\n",
       "      <td>0.744898</td>\n",
       "      <td>0</td>\n",
       "    </tr>\n",
       "    <tr>\n",
       "      <th>198</th>\n",
       "      <td>199</td>\n",
       "      <td>Male</td>\n",
       "      <td>0.269231</td>\n",
       "      <td>137</td>\n",
       "      <td>0.173469</td>\n",
       "      <td>2</td>\n",
       "    </tr>\n",
       "    <tr>\n",
       "      <th>199</th>\n",
       "      <td>200</td>\n",
       "      <td>Male</td>\n",
       "      <td>0.230769</td>\n",
       "      <td>137</td>\n",
       "      <td>0.836735</td>\n",
       "      <td>0</td>\n",
       "    </tr>\n",
       "  </tbody>\n",
       "</table>\n",
       "<p>200 rows × 6 columns</p>\n",
       "</div>"
      ],
      "text/plain": [
       "     CustomerID  Gender       Age  Annual Income (k$)  Spending Score (1-100)  \\\n",
       "0             1    Male  0.019231                  15                0.387755   \n",
       "1             2    Male  0.057692                  15                0.816327   \n",
       "2             3  Female  0.038462                  16                0.051020   \n",
       "3             4  Female  0.096154                  16                0.775510   \n",
       "4             5  Female  0.250000                  17                0.397959   \n",
       "..          ...     ...       ...                 ...                     ...   \n",
       "195         196  Female  0.326923                 120                0.795918   \n",
       "196         197  Female  0.519231                 126                0.275510   \n",
       "197         198    Male  0.269231                 126                0.744898   \n",
       "198         199    Male  0.269231                 137                0.173469   \n",
       "199         200    Male  0.230769                 137                0.836735   \n",
       "\n",
       "     cluster  \n",
       "0          0  \n",
       "1          0  \n",
       "2          2  \n",
       "3          0  \n",
       "4          3  \n",
       "..       ...  \n",
       "195        0  \n",
       "196        2  \n",
       "197        0  \n",
       "198        2  \n",
       "199        0  \n",
       "\n",
       "[200 rows x 6 columns]"
      ]
     },
     "execution_count": 16,
     "metadata": {},
     "output_type": "execute_result"
    }
   ],
   "source": [
    "# The centroids of the 4 clusters\n",
    "print(f\"\\nCentroids : {km.cluster_centers_}\")\n",
    "df['cluster'] = y_pred\n",
    "df"
   ]
  },
  {
   "cell_type": "markdown",
   "id": "b6d82026",
   "metadata": {},
   "source": [
    "## Plot the clustering result in Scatterplot"
   ]
  },
  {
   "cell_type": "code",
   "execution_count": 18,
   "id": "2903f45a",
   "metadata": {},
   "outputs": [
    {
     "data": {
      "text/plain": [
       "<matplotlib.legend.Legend at 0x1b8ac579bd0>"
      ]
     },
     "execution_count": 18,
     "metadata": {},
     "output_type": "execute_result"
    },
    {
     "data": {
      "image/png": "[encoded data removed]",
      "text/plain": [
       "<Figure size 640x480 with 1 Axes>"
      ]
     },
     "metadata": {},
     "output_type": "display_data"
    }
   ],
   "source": [
    "# Grouping clusters based on their centroids and predictions\n",
    "df1 = df[df['cluster'] == 0]\n",
    "df2 = df[df['cluster'] == 1]\n",
    "df3 = df[df['cluster'] == 2]\n",
    "df4 = df[df['cluster'] == 3]\n",
    "\n",
    "# Apply different colors to groups to differentiate each group\n",
    "plt.scatter(df1['Age'], df1['Spending Score (1-100)'], color='red', label='Cluster 1')\n",
    "plt.scatter(df2['Age'], df2['Spending Score (1-100)'], color='yellow', label='Cluster 2')\n",
    "plt.scatter(df3['Age'], df3['Spending Score (1-100)'], color='green', label='Cluster 3')\n",
    "plt.scatter(df4['Age'], df4['Spending Score (1-100)'], color='blue', label='Cluster 4')\n",
    "\n",
    "# Plot the values\n",
    "plt.xlabel('Age')\n",
    "plt.ylabel('Spending Score (1-100)')\n",
    "plt.legend()"
   ]
  },
  {
   "cell_type": "markdown",
   "id": "f5e5e42d",
   "metadata": {},
   "source": [
    "## Customers have been grouped based on their purchase history, using their spending scores"
   ]
  }
 ],
 "metadata": {
  "kernelspec": {
   "display_name": "Python 3 (ipykernel)",
   "language": "python",
   "name": "python3"
  },
  "language_info": {
   "codemirror_mode": {
    "name": "ipython",
    "version": 3
   },
   "file_extension": ".py",
   "mimetype": "text/x-python",
   "name": "python",
   "nbconvert_exporter": "python",
   "pygments_lexer": "ipython3",
   "version": "3.11.5"
  }
 },
 "nbformat": 4,
 "nbformat_minor": 5
}
